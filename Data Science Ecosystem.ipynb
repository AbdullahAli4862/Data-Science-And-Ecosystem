{
 "cells": [
  {
   "cell_type": "markdown",
   "id": "83c57cbf",
   "metadata": {},
   "source": []
  },
  {
   "cell_type": "markdown",
   "id": "6b208f19",
   "metadata": {},
   "source": [
    "# Data Science tools and Ecosystem"
   ]
  },
  {
   "cell_type": "markdown",
   "id": "8caee9e6",
   "metadata": {},
   "source": [
    "In this notebook Data Science Tools and Ecosystem are summrized"
   ]
  },
  {
   "cell_type": "markdown",
   "id": "6bb86e1d",
   "metadata": {},
   "source": [
    "|Some of the popular languages that Data Scientists used|\n",
    "|---------------------------------------------------------|\n",
    "|C|\n",
    "|C++|\n",
    "|Scala|\n",
    "|Julia| "
   ]
  },
  {
   "cell_type": "markdown",
   "id": "09caeca8",
   "metadata": {},
   "source": [
    "Some of the commonly used libraries used by Data Scientists include:"
   ]
  },
  {
   "cell_type": "markdown",
   "id": "fba73926",
   "metadata": {},
   "source": [
    "ordered list"
   ]
  },
  {
   "cell_type": "markdown",
   "id": "aab2faba",
   "metadata": {},
   "source": [
    "1 Tensorflow"
   ]
  },
  {
   "cell_type": "markdown",
   "id": "d3756199",
   "metadata": {},
   "source": [
    "2 Numpy"
   ]
  },
  {
   "cell_type": "markdown",
   "id": "7016bbd9",
   "metadata": {},
   "source": [
    "3 Pandas"
   ]
  },
  {
   "cell_type": "markdown",
   "id": "e179b0b4",
   "metadata": {},
   "source": [
    "|Data Science tools|\n",
    "|-----------------|\n",
    "|Spyder| \n",
    "|Numpy|\n",
    "|Tensorflow|"
   ]
  },
  {
   "cell_type": "markdown",
   "id": "a9412651",
   "metadata": {},
   "source": [
    "## Few examples of evaluating arithmetic expressions in Python"
   ]
  },
  {
   "cell_type": "code",
   "execution_count": 11,
   "id": "43ec3b8e",
   "metadata": {},
   "outputs": [
    {
     "data": {
      "text/plain": [
       "17"
      ]
     },
     "execution_count": 11,
     "metadata": {},
     "output_type": "execute_result"
    }
   ],
   "source": [
    "(3*4)+5"
   ]
  },
  {
   "cell_type": "markdown",
   "id": "de22bcb4",
   "metadata": {},
   "source": [
    "### This a simple arithmetic expression to mutiply then add integers"
   ]
  },
  {
   "cell_type": "markdown",
   "id": "d0325ff4",
   "metadata": {},
   "source": [
    " #### Minutes to Hours"
   ]
  },
  {
   "cell_type": "code",
   "execution_count": 12,
   "id": "f3c60a1b",
   "metadata": {},
   "outputs": [
    {
     "data": {
      "text/plain": [
       "3.3333333333333335"
      ]
     },
     "execution_count": 12,
     "metadata": {},
     "output_type": "execute_result"
    }
   ],
   "source": [
    "200/60"
   ]
  },
  {
   "cell_type": "markdown",
   "id": "c7d3e0ab",
   "metadata": {},
   "source": [
    "## Author's Name\n",
    "Abdullah Arshad"
   ]
  },
  {
   "cell_type": "code",
   "execution_count": null,
   "id": "205352b6",
   "metadata": {},
   "outputs": [],
   "source": []
  }
 ],
 "metadata": {
  "kernelspec": {
   "display_name": "Python 3 (ipykernel)",
   "language": "python",
   "name": "python3"
  },
  "language_info": {
   "codemirror_mode": {
    "name": "ipython",
    "version": 3
   },
   "file_extension": ".py",
   "mimetype": "text/x-python",
   "name": "python",
   "nbconvert_exporter": "python",
   "pygments_lexer": "ipython3",
   "version": "3.10.9"
  }
 },
 "nbformat": 4,
 "nbformat_minor": 5
}
